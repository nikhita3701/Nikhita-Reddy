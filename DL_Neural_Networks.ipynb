{
  "nbformat": 4,
  "nbformat_minor": 0,
  "metadata": {
    "colab": {
      "name": "DL_Neural_Networks.ipynb",
      "provenance": [],
      "collapsed_sections": [],
      "toc_visible": true
    },
    "kernelspec": {
      "name": "python3",
      "display_name": "Python 3"
    },
    "accelerator": "GPU",
    "widgets": {
      "application/vnd.jupyter.widget-state+json": {
        "2a8c556f319b47f4acc7b045787380aa": {
          "model_module": "@jupyter-widgets/controls",
          "model_name": "HBoxModel",
          "model_module_version": "1.5.0",
          "state": {
            "_view_name": "HBoxView",
            "_dom_classes": [],
            "_model_name": "HBoxModel",
            "_view_module": "@jupyter-widgets/controls",
            "_model_module_version": "1.5.0",
            "_view_count": null,
            "_view_module_version": "1.5.0",
            "box_style": "",
            "layout": "IPY_MODEL_506530e8de364d11a1c9b530799d91ba",
            "_model_module": "@jupyter-widgets/controls",
            "children": [
              "IPY_MODEL_9b294f01dc84486a9b9ebbeae85af15c",
              "IPY_MODEL_0e8aa363b81c4319aba446a99108419f"
            ]
          }
        },
        "506530e8de364d11a1c9b530799d91ba": {
          "model_module": "@jupyter-widgets/base",
          "model_name": "LayoutModel",
          "model_module_version": "1.2.0",
          "state": {
            "_view_name": "LayoutView",
            "grid_template_rows": null,
            "right": null,
            "justify_content": null,
            "_view_module": "@jupyter-widgets/base",
            "overflow": null,
            "_model_module_version": "1.2.0",
            "_view_count": null,
            "flex_flow": null,
            "width": null,
            "min_width": null,
            "border": null,
            "align_items": null,
            "bottom": null,
            "_model_module": "@jupyter-widgets/base",
            "top": null,
            "grid_column": null,
            "overflow_y": null,
            "overflow_x": null,
            "grid_auto_flow": null,
            "grid_area": null,
            "grid_template_columns": null,
            "flex": null,
            "_model_name": "LayoutModel",
            "justify_items": null,
            "grid_row": null,
            "max_height": null,
            "align_content": null,
            "visibility": null,
            "align_self": null,
            "height": null,
            "min_height": null,
            "padding": null,
            "grid_auto_rows": null,
            "grid_gap": null,
            "max_width": null,
            "order": null,
            "_view_module_version": "1.2.0",
            "grid_template_areas": null,
            "object_position": null,
            "object_fit": null,
            "grid_auto_columns": null,
            "margin": null,
            "display": null,
            "left": null
          }
        },
        "9b294f01dc84486a9b9ebbeae85af15c": {
          "model_module": "@jupyter-widgets/controls",
          "model_name": "FloatProgressModel",
          "model_module_version": "1.5.0",
          "state": {
            "_view_name": "ProgressView",
            "style": "IPY_MODEL_f70893c700ae4d68a192084fa31b5e58",
            "_dom_classes": [],
            "description": "",
            "_model_name": "FloatProgressModel",
            "bar_style": "success",
            "max": 9912422,
            "_view_module": "@jupyter-widgets/controls",
            "_model_module_version": "1.5.0",
            "value": 9912422,
            "_view_count": null,
            "_view_module_version": "1.5.0",
            "orientation": "horizontal",
            "min": 0,
            "description_tooltip": null,
            "_model_module": "@jupyter-widgets/controls",
            "layout": "IPY_MODEL_5007b7cedbd14a5d9ac9cd4208019979"
          }
        },
        "0e8aa363b81c4319aba446a99108419f": {
          "model_module": "@jupyter-widgets/controls",
          "model_name": "HTMLModel",
          "model_module_version": "1.5.0",
          "state": {
            "_view_name": "HTMLView",
            "style": "IPY_MODEL_3b72a85fba0d48ac98707ddbe5047f1c",
            "_dom_classes": [],
            "description": "",
            "_model_name": "HTMLModel",
            "placeholder": "​",
            "_view_module": "@jupyter-widgets/controls",
            "_model_module_version": "1.5.0",
            "value": " 9913344/? [00:01&lt;00:00, 5492813.75it/s]",
            "_view_count": null,
            "_view_module_version": "1.5.0",
            "description_tooltip": null,
            "_model_module": "@jupyter-widgets/controls",
            "layout": "IPY_MODEL_5d639a49fd4d4ebb884ee0d41b342eeb"
          }
        },
        "f70893c700ae4d68a192084fa31b5e58": {
          "model_module": "@jupyter-widgets/controls",
          "model_name": "ProgressStyleModel",
          "model_module_version": "1.5.0",
          "state": {
            "_view_name": "StyleView",
            "_model_name": "ProgressStyleModel",
            "description_width": "initial",
            "_view_module": "@jupyter-widgets/base",
            "_model_module_version": "1.5.0",
            "_view_count": null,
            "_view_module_version": "1.2.0",
            "bar_color": null,
            "_model_module": "@jupyter-widgets/controls"
          }
        },
        "5007b7cedbd14a5d9ac9cd4208019979": {
          "model_module": "@jupyter-widgets/base",
          "model_name": "LayoutModel",
          "model_module_version": "1.2.0",
          "state": {
            "_view_name": "LayoutView",
            "grid_template_rows": null,
            "right": null,
            "justify_content": null,
            "_view_module": "@jupyter-widgets/base",
            "overflow": null,
            "_model_module_version": "1.2.0",
            "_view_count": null,
            "flex_flow": null,
            "width": null,
            "min_width": null,
            "border": null,
            "align_items": null,
            "bottom": null,
            "_model_module": "@jupyter-widgets/base",
            "top": null,
            "grid_column": null,
            "overflow_y": null,
            "overflow_x": null,
            "grid_auto_flow": null,
            "grid_area": null,
            "grid_template_columns": null,
            "flex": null,
            "_model_name": "LayoutModel",
            "justify_items": null,
            "grid_row": null,
            "max_height": null,
            "align_content": null,
            "visibility": null,
            "align_self": null,
            "height": null,
            "min_height": null,
            "padding": null,
            "grid_auto_rows": null,
            "grid_gap": null,
            "max_width": null,
            "order": null,
            "_view_module_version": "1.2.0",
            "grid_template_areas": null,
            "object_position": null,
            "object_fit": null,
            "grid_auto_columns": null,
            "margin": null,
            "display": null,
            "left": null
          }
        },
        "3b72a85fba0d48ac98707ddbe5047f1c": {
          "model_module": "@jupyter-widgets/controls",
          "model_name": "DescriptionStyleModel",
          "model_module_version": "1.5.0",
          "state": {
            "_view_name": "StyleView",
            "_model_name": "DescriptionStyleModel",
            "description_width": "",
            "_view_module": "@jupyter-widgets/base",
            "_model_module_version": "1.5.0",
            "_view_count": null,
            "_view_module_version": "1.2.0",
            "_model_module": "@jupyter-widgets/controls"
          }
        },
        "5d639a49fd4d4ebb884ee0d41b342eeb": {
          "model_module": "@jupyter-widgets/base",
          "model_name": "LayoutModel",
          "model_module_version": "1.2.0",
          "state": {
            "_view_name": "LayoutView",
            "grid_template_rows": null,
            "right": null,
            "justify_content": null,
            "_view_module": "@jupyter-widgets/base",
            "overflow": null,
            "_model_module_version": "1.2.0",
            "_view_count": null,
            "flex_flow": null,
            "width": null,
            "min_width": null,
            "border": null,
            "align_items": null,
            "bottom": null,
            "_model_module": "@jupyter-widgets/base",
            "top": null,
            "grid_column": null,
            "overflow_y": null,
            "overflow_x": null,
            "grid_auto_flow": null,
            "grid_area": null,
            "grid_template_columns": null,
            "flex": null,
            "_model_name": "LayoutModel",
            "justify_items": null,
            "grid_row": null,
            "max_height": null,
            "align_content": null,
            "visibility": null,
            "align_self": null,
            "height": null,
            "min_height": null,
            "padding": null,
            "grid_auto_rows": null,
            "grid_gap": null,
            "max_width": null,
            "order": null,
            "_view_module_version": "1.2.0",
            "grid_template_areas": null,
            "object_position": null,
            "object_fit": null,
            "grid_auto_columns": null,
            "margin": null,
            "display": null,
            "left": null
          }
        },
        "a2c5c421c2ef44f8bdbcec903a51f891": {
          "model_module": "@jupyter-widgets/controls",
          "model_name": "HBoxModel",
          "model_module_version": "1.5.0",
          "state": {
            "_view_name": "HBoxView",
            "_dom_classes": [],
            "_model_name": "HBoxModel",
            "_view_module": "@jupyter-widgets/controls",
            "_model_module_version": "1.5.0",
            "_view_count": null,
            "_view_module_version": "1.5.0",
            "box_style": "",
            "layout": "IPY_MODEL_cb0cdd9ee11e47c7bc466e12dfe696fd",
            "_model_module": "@jupyter-widgets/controls",
            "children": [
              "IPY_MODEL_9e1a4315064f4ae4becb8459afa3d101",
              "IPY_MODEL_ef2fc1089cef412ab8e790c43c82619d"
            ]
          }
        },
        "cb0cdd9ee11e47c7bc466e12dfe696fd": {
          "model_module": "@jupyter-widgets/base",
          "model_name": "LayoutModel",
          "model_module_version": "1.2.0",
          "state": {
            "_view_name": "LayoutView",
            "grid_template_rows": null,
            "right": null,
            "justify_content": null,
            "_view_module": "@jupyter-widgets/base",
            "overflow": null,
            "_model_module_version": "1.2.0",
            "_view_count": null,
            "flex_flow": null,
            "width": null,
            "min_width": null,
            "border": null,
            "align_items": null,
            "bottom": null,
            "_model_module": "@jupyter-widgets/base",
            "top": null,
            "grid_column": null,
            "overflow_y": null,
            "overflow_x": null,
            "grid_auto_flow": null,
            "grid_area": null,
            "grid_template_columns": null,
            "flex": null,
            "_model_name": "LayoutModel",
            "justify_items": null,
            "grid_row": null,
            "max_height": null,
            "align_content": null,
            "visibility": null,
            "align_self": null,
            "height": null,
            "min_height": null,
            "padding": null,
            "grid_auto_rows": null,
            "grid_gap": null,
            "max_width": null,
            "order": null,
            "_view_module_version": "1.2.0",
            "grid_template_areas": null,
            "object_position": null,
            "object_fit": null,
            "grid_auto_columns": null,
            "margin": null,
            "display": null,
            "left": null
          }
        },
        "9e1a4315064f4ae4becb8459afa3d101": {
          "model_module": "@jupyter-widgets/controls",
          "model_name": "FloatProgressModel",
          "model_module_version": "1.5.0",
          "state": {
            "_view_name": "ProgressView",
            "style": "IPY_MODEL_bbbee7f5473a43be917aba7552f35ebb",
            "_dom_classes": [],
            "description": "",
            "_model_name": "FloatProgressModel",
            "bar_style": "success",
            "max": 28881,
            "_view_module": "@jupyter-widgets/controls",
            "_model_module_version": "1.5.0",
            "value": 28881,
            "_view_count": null,
            "_view_module_version": "1.5.0",
            "orientation": "horizontal",
            "min": 0,
            "description_tooltip": null,
            "_model_module": "@jupyter-widgets/controls",
            "layout": "IPY_MODEL_ce39d0540a804f0193b1eb399d9f662b"
          }
        },
        "ef2fc1089cef412ab8e790c43c82619d": {
          "model_module": "@jupyter-widgets/controls",
          "model_name": "HTMLModel",
          "model_module_version": "1.5.0",
          "state": {
            "_view_name": "HTMLView",
            "style": "IPY_MODEL_b20e227bf105411687869f19e01f1df9",
            "_dom_classes": [],
            "description": "",
            "_model_name": "HTMLModel",
            "placeholder": "​",
            "_view_module": "@jupyter-widgets/controls",
            "_model_module_version": "1.5.0",
            "value": " 29696/? [00:00&lt;00:00, 473555.34it/s]",
            "_view_count": null,
            "_view_module_version": "1.5.0",
            "description_tooltip": null,
            "_model_module": "@jupyter-widgets/controls",
            "layout": "IPY_MODEL_80778ca2346d4a28b93f2e1028860942"
          }
        },
        "bbbee7f5473a43be917aba7552f35ebb": {
          "model_module": "@jupyter-widgets/controls",
          "model_name": "ProgressStyleModel",
          "model_module_version": "1.5.0",
          "state": {
            "_view_name": "StyleView",
            "_model_name": "ProgressStyleModel",
            "description_width": "initial",
            "_view_module": "@jupyter-widgets/base",
            "_model_module_version": "1.5.0",
            "_view_count": null,
            "_view_module_version": "1.2.0",
            "bar_color": null,
            "_model_module": "@jupyter-widgets/controls"
          }
        },
        "ce39d0540a804f0193b1eb399d9f662b": {
          "model_module": "@jupyter-widgets/base",
          "model_name": "LayoutModel",
          "model_module_version": "1.2.0",
          "state": {
            "_view_name": "LayoutView",
            "grid_template_rows": null,
            "right": null,
            "justify_content": null,
            "_view_module": "@jupyter-widgets/base",
            "overflow": null,
            "_model_module_version": "1.2.0",
            "_view_count": null,
            "flex_flow": null,
            "width": null,
            "min_width": null,
            "border": null,
            "align_items": null,
            "bottom": null,
            "_model_module": "@jupyter-widgets/base",
            "top": null,
            "grid_column": null,
            "overflow_y": null,
            "overflow_x": null,
            "grid_auto_flow": null,
            "grid_area": null,
            "grid_template_columns": null,
            "flex": null,
            "_model_name": "LayoutModel",
            "justify_items": null,
            "grid_row": null,
            "max_height": null,
            "align_content": null,
            "visibility": null,
            "align_self": null,
            "height": null,
            "min_height": null,
            "padding": null,
            "grid_auto_rows": null,
            "grid_gap": null,
            "max_width": null,
            "order": null,
            "_view_module_version": "1.2.0",
            "grid_template_areas": null,
            "object_position": null,
            "object_fit": null,
            "grid_auto_columns": null,
            "margin": null,
            "display": null,
            "left": null
          }
        },
        "b20e227bf105411687869f19e01f1df9": {
          "model_module": "@jupyter-widgets/controls",
          "model_name": "DescriptionStyleModel",
          "model_module_version": "1.5.0",
          "state": {
            "_view_name": "StyleView",
            "_model_name": "DescriptionStyleModel",
            "description_width": "",
            "_view_module": "@jupyter-widgets/base",
            "_model_module_version": "1.5.0",
            "_view_count": null,
            "_view_module_version": "1.2.0",
            "_model_module": "@jupyter-widgets/controls"
          }
        },
        "80778ca2346d4a28b93f2e1028860942": {
          "model_module": "@jupyter-widgets/base",
          "model_name": "LayoutModel",
          "model_module_version": "1.2.0",
          "state": {
            "_view_name": "LayoutView",
            "grid_template_rows": null,
            "right": null,
            "justify_content": null,
            "_view_module": "@jupyter-widgets/base",
            "overflow": null,
            "_model_module_version": "1.2.0",
            "_view_count": null,
            "flex_flow": null,
            "width": null,
            "min_width": null,
            "border": null,
            "align_items": null,
            "bottom": null,
            "_model_module": "@jupyter-widgets/base",
            "top": null,
            "grid_column": null,
            "overflow_y": null,
            "overflow_x": null,
            "grid_auto_flow": null,
            "grid_area": null,
            "grid_template_columns": null,
            "flex": null,
            "_model_name": "LayoutModel",
            "justify_items": null,
            "grid_row": null,
            "max_height": null,
            "align_content": null,
            "visibility": null,
            "align_self": null,
            "height": null,
            "min_height": null,
            "padding": null,
            "grid_auto_rows": null,
            "grid_gap": null,
            "max_width": null,
            "order": null,
            "_view_module_version": "1.2.0",
            "grid_template_areas": null,
            "object_position": null,
            "object_fit": null,
            "grid_auto_columns": null,
            "margin": null,
            "display": null,
            "left": null
          }
        },
        "7e01f8dcf0c645eda6ea0ec677dec28c": {
          "model_module": "@jupyter-widgets/controls",
          "model_name": "HBoxModel",
          "model_module_version": "1.5.0",
          "state": {
            "_view_name": "HBoxView",
            "_dom_classes": [],
            "_model_name": "HBoxModel",
            "_view_module": "@jupyter-widgets/controls",
            "_model_module_version": "1.5.0",
            "_view_count": null,
            "_view_module_version": "1.5.0",
            "box_style": "",
            "layout": "IPY_MODEL_fe7632dd0b824f218014b453f0127262",
            "_model_module": "@jupyter-widgets/controls",
            "children": [
              "IPY_MODEL_111b3367906f40a79da9f1d830203695",
              "IPY_MODEL_f1afe5a8e9ee40b5adc893dc161b881f"
            ]
          }
        },
        "fe7632dd0b824f218014b453f0127262": {
          "model_module": "@jupyter-widgets/base",
          "model_name": "LayoutModel",
          "model_module_version": "1.2.0",
          "state": {
            "_view_name": "LayoutView",
            "grid_template_rows": null,
            "right": null,
            "justify_content": null,
            "_view_module": "@jupyter-widgets/base",
            "overflow": null,
            "_model_module_version": "1.2.0",
            "_view_count": null,
            "flex_flow": null,
            "width": null,
            "min_width": null,
            "border": null,
            "align_items": null,
            "bottom": null,
            "_model_module": "@jupyter-widgets/base",
            "top": null,
            "grid_column": null,
            "overflow_y": null,
            "overflow_x": null,
            "grid_auto_flow": null,
            "grid_area": null,
            "grid_template_columns": null,
            "flex": null,
            "_model_name": "LayoutModel",
            "justify_items": null,
            "grid_row": null,
            "max_height": null,
            "align_content": null,
            "visibility": null,
            "align_self": null,
            "height": null,
            "min_height": null,
            "padding": null,
            "grid_auto_rows": null,
            "grid_gap": null,
            "max_width": null,
            "order": null,
            "_view_module_version": "1.2.0",
            "grid_template_areas": null,
            "object_position": null,
            "object_fit": null,
            "grid_auto_columns": null,
            "margin": null,
            "display": null,
            "left": null
          }
        },
        "111b3367906f40a79da9f1d830203695": {
          "model_module": "@jupyter-widgets/controls",
          "model_name": "FloatProgressModel",
          "model_module_version": "1.5.0",
          "state": {
            "_view_name": "ProgressView",
            "style": "IPY_MODEL_d7f19690ca714be09d6bf04e001bee9a",
            "_dom_classes": [],
            "description": "",
            "_model_name": "FloatProgressModel",
            "bar_style": "success",
            "max": 1648877,
            "_view_module": "@jupyter-widgets/controls",
            "_model_module_version": "1.5.0",
            "value": 1648877,
            "_view_count": null,
            "_view_module_version": "1.5.0",
            "orientation": "horizontal",
            "min": 0,
            "description_tooltip": null,
            "_model_module": "@jupyter-widgets/controls",
            "layout": "IPY_MODEL_01c67e60a3ff404d87caa0ac244e5460"
          }
        },
        "f1afe5a8e9ee40b5adc893dc161b881f": {
          "model_module": "@jupyter-widgets/controls",
          "model_name": "HTMLModel",
          "model_module_version": "1.5.0",
          "state": {
            "_view_name": "HTMLView",
            "style": "IPY_MODEL_f7d5fdbfe8874104a407805937c65b6e",
            "_dom_classes": [],
            "description": "",
            "_model_name": "HTMLModel",
            "placeholder": "​",
            "_view_module": "@jupyter-widgets/controls",
            "_model_module_version": "1.5.0",
            "value": " 1649664/? [00:01&lt;00:00, 1092914.12it/s]",
            "_view_count": null,
            "_view_module_version": "1.5.0",
            "description_tooltip": null,
            "_model_module": "@jupyter-widgets/controls",
            "layout": "IPY_MODEL_9b8c9ddb47e34aba862937596aac275f"
          }
        },
        "d7f19690ca714be09d6bf04e001bee9a": {
          "model_module": "@jupyter-widgets/controls",
          "model_name": "ProgressStyleModel",
          "model_module_version": "1.5.0",
          "state": {
            "_view_name": "StyleView",
            "_model_name": "ProgressStyleModel",
            "description_width": "initial",
            "_view_module": "@jupyter-widgets/base",
            "_model_module_version": "1.5.0",
            "_view_count": null,
            "_view_module_version": "1.2.0",
            "bar_color": null,
            "_model_module": "@jupyter-widgets/controls"
          }
        },
        "01c67e60a3ff404d87caa0ac244e5460": {
          "model_module": "@jupyter-widgets/base",
          "model_name": "LayoutModel",
          "model_module_version": "1.2.0",
          "state": {
            "_view_name": "LayoutView",
            "grid_template_rows": null,
            "right": null,
            "justify_content": null,
            "_view_module": "@jupyter-widgets/base",
            "overflow": null,
            "_model_module_version": "1.2.0",
            "_view_count": null,
            "flex_flow": null,
            "width": null,
            "min_width": null,
            "border": null,
            "align_items": null,
            "bottom": null,
            "_model_module": "@jupyter-widgets/base",
            "top": null,
            "grid_column": null,
            "overflow_y": null,
            "overflow_x": null,
            "grid_auto_flow": null,
            "grid_area": null,
            "grid_template_columns": null,
            "flex": null,
            "_model_name": "LayoutModel",
            "justify_items": null,
            "grid_row": null,
            "max_height": null,
            "align_content": null,
            "visibility": null,
            "align_self": null,
            "height": null,
            "min_height": null,
            "padding": null,
            "grid_auto_rows": null,
            "grid_gap": null,
            "max_width": null,
            "order": null,
            "_view_module_version": "1.2.0",
            "grid_template_areas": null,
            "object_position": null,
            "object_fit": null,
            "grid_auto_columns": null,
            "margin": null,
            "display": null,
            "left": null
          }
        },
        "f7d5fdbfe8874104a407805937c65b6e": {
          "model_module": "@jupyter-widgets/controls",
          "model_name": "DescriptionStyleModel",
          "model_module_version": "1.5.0",
          "state": {
            "_view_name": "StyleView",
            "_model_name": "DescriptionStyleModel",
            "description_width": "",
            "_view_module": "@jupyter-widgets/base",
            "_model_module_version": "1.5.0",
            "_view_count": null,
            "_view_module_version": "1.2.0",
            "_model_module": "@jupyter-widgets/controls"
          }
        },
        "9b8c9ddb47e34aba862937596aac275f": {
          "model_module": "@jupyter-widgets/base",
          "model_name": "LayoutModel",
          "model_module_version": "1.2.0",
          "state": {
            "_view_name": "LayoutView",
            "grid_template_rows": null,
            "right": null,
            "justify_content": null,
            "_view_module": "@jupyter-widgets/base",
            "overflow": null,
            "_model_module_version": "1.2.0",
            "_view_count": null,
            "flex_flow": null,
            "width": null,
            "min_width": null,
            "border": null,
            "align_items": null,
            "bottom": null,
            "_model_module": "@jupyter-widgets/base",
            "top": null,
            "grid_column": null,
            "overflow_y": null,
            "overflow_x": null,
            "grid_auto_flow": null,
            "grid_area": null,
            "grid_template_columns": null,
            "flex": null,
            "_model_name": "LayoutModel",
            "justify_items": null,
            "grid_row": null,
            "max_height": null,
            "align_content": null,
            "visibility": null,
            "align_self": null,
            "height": null,
            "min_height": null,
            "padding": null,
            "grid_auto_rows": null,
            "grid_gap": null,
            "max_width": null,
            "order": null,
            "_view_module_version": "1.2.0",
            "grid_template_areas": null,
            "object_position": null,
            "object_fit": null,
            "grid_auto_columns": null,
            "margin": null,
            "display": null,
            "left": null
          }
        },
        "30241275ddd94f78955bdb2d9d198b33": {
          "model_module": "@jupyter-widgets/controls",
          "model_name": "HBoxModel",
          "model_module_version": "1.5.0",
          "state": {
            "_view_name": "HBoxView",
            "_dom_classes": [],
            "_model_name": "HBoxModel",
            "_view_module": "@jupyter-widgets/controls",
            "_model_module_version": "1.5.0",
            "_view_count": null,
            "_view_module_version": "1.5.0",
            "box_style": "",
            "layout": "IPY_MODEL_18cacba912464917838f6c8d8c19ef97",
            "_model_module": "@jupyter-widgets/controls",
            "children": [
              "IPY_MODEL_aedf0edf38094324a46c1436b426c4b2",
              "IPY_MODEL_438e303eda244607af07109140a8fd0b"
            ]
          }
        },
        "18cacba912464917838f6c8d8c19ef97": {
          "model_module": "@jupyter-widgets/base",
          "model_name": "LayoutModel",
          "model_module_version": "1.2.0",
          "state": {
            "_view_name": "LayoutView",
            "grid_template_rows": null,
            "right": null,
            "justify_content": null,
            "_view_module": "@jupyter-widgets/base",
            "overflow": null,
            "_model_module_version": "1.2.0",
            "_view_count": null,
            "flex_flow": null,
            "width": null,
            "min_width": null,
            "border": null,
            "align_items": null,
            "bottom": null,
            "_model_module": "@jupyter-widgets/base",
            "top": null,
            "grid_column": null,
            "overflow_y": null,
            "overflow_x": null,
            "grid_auto_flow": null,
            "grid_area": null,
            "grid_template_columns": null,
            "flex": null,
            "_model_name": "LayoutModel",
            "justify_items": null,
            "grid_row": null,
            "max_height": null,
            "align_content": null,
            "visibility": null,
            "align_self": null,
            "height": null,
            "min_height": null,
            "padding": null,
            "grid_auto_rows": null,
            "grid_gap": null,
            "max_width": null,
            "order": null,
            "_view_module_version": "1.2.0",
            "grid_template_areas": null,
            "object_position": null,
            "object_fit": null,
            "grid_auto_columns": null,
            "margin": null,
            "display": null,
            "left": null
          }
        },
        "aedf0edf38094324a46c1436b426c4b2": {
          "model_module": "@jupyter-widgets/controls",
          "model_name": "FloatProgressModel",
          "model_module_version": "1.5.0",
          "state": {
            "_view_name": "ProgressView",
            "style": "IPY_MODEL_8d5ed172ca5244089c71fa3a74523d03",
            "_dom_classes": [],
            "description": "",
            "_model_name": "FloatProgressModel",
            "bar_style": "success",
            "max": 4542,
            "_view_module": "@jupyter-widgets/controls",
            "_model_module_version": "1.5.0",
            "value": 4542,
            "_view_count": null,
            "_view_module_version": "1.5.0",
            "orientation": "horizontal",
            "min": 0,
            "description_tooltip": null,
            "_model_module": "@jupyter-widgets/controls",
            "layout": "IPY_MODEL_f31efec5808548889fff5a976d796a5c"
          }
        },
        "438e303eda244607af07109140a8fd0b": {
          "model_module": "@jupyter-widgets/controls",
          "model_name": "HTMLModel",
          "model_module_version": "1.5.0",
          "state": {
            "_view_name": "HTMLView",
            "style": "IPY_MODEL_32042cc8b0f24637bcf4718a22944bfd",
            "_dom_classes": [],
            "description": "",
            "_model_name": "HTMLModel",
            "placeholder": "​",
            "_view_module": "@jupyter-widgets/controls",
            "_model_module_version": "1.5.0",
            "value": " 5120/? [00:00&lt;00:00, 45243.23it/s]",
            "_view_count": null,
            "_view_module_version": "1.5.0",
            "description_tooltip": null,
            "_model_module": "@jupyter-widgets/controls",
            "layout": "IPY_MODEL_e33d4d94c4c54a0ea6d1b65d392042a1"
          }
        },
        "8d5ed172ca5244089c71fa3a74523d03": {
          "model_module": "@jupyter-widgets/controls",
          "model_name": "ProgressStyleModel",
          "model_module_version": "1.5.0",
          "state": {
            "_view_name": "StyleView",
            "_model_name": "ProgressStyleModel",
            "description_width": "initial",
            "_view_module": "@jupyter-widgets/base",
            "_model_module_version": "1.5.0",
            "_view_count": null,
            "_view_module_version": "1.2.0",
            "bar_color": null,
            "_model_module": "@jupyter-widgets/controls"
          }
        },
        "f31efec5808548889fff5a976d796a5c": {
          "model_module": "@jupyter-widgets/base",
          "model_name": "LayoutModel",
          "model_module_version": "1.2.0",
          "state": {
            "_view_name": "LayoutView",
            "grid_template_rows": null,
            "right": null,
            "justify_content": null,
            "_view_module": "@jupyter-widgets/base",
            "overflow": null,
            "_model_module_version": "1.2.0",
            "_view_count": null,
            "flex_flow": null,
            "width": null,
            "min_width": null,
            "border": null,
            "align_items": null,
            "bottom": null,
            "_model_module": "@jupyter-widgets/base",
            "top": null,
            "grid_column": null,
            "overflow_y": null,
            "overflow_x": null,
            "grid_auto_flow": null,
            "grid_area": null,
            "grid_template_columns": null,
            "flex": null,
            "_model_name": "LayoutModel",
            "justify_items": null,
            "grid_row": null,
            "max_height": null,
            "align_content": null,
            "visibility": null,
            "align_self": null,
            "height": null,
            "min_height": null,
            "padding": null,
            "grid_auto_rows": null,
            "grid_gap": null,
            "max_width": null,
            "order": null,
            "_view_module_version": "1.2.0",
            "grid_template_areas": null,
            "object_position": null,
            "object_fit": null,
            "grid_auto_columns": null,
            "margin": null,
            "display": null,
            "left": null
          }
        },
        "32042cc8b0f24637bcf4718a22944bfd": {
          "model_module": "@jupyter-widgets/controls",
          "model_name": "DescriptionStyleModel",
          "model_module_version": "1.5.0",
          "state": {
            "_view_name": "StyleView",
            "_model_name": "DescriptionStyleModel",
            "description_width": "",
            "_view_module": "@jupyter-widgets/base",
            "_model_module_version": "1.5.0",
            "_view_count": null,
            "_view_module_version": "1.2.0",
            "_model_module": "@jupyter-widgets/controls"
          }
        },
        "e33d4d94c4c54a0ea6d1b65d392042a1": {
          "model_module": "@jupyter-widgets/base",
          "model_name": "LayoutModel",
          "model_module_version": "1.2.0",
          "state": {
            "_view_name": "LayoutView",
            "grid_template_rows": null,
            "right": null,
            "justify_content": null,
            "_view_module": "@jupyter-widgets/base",
            "overflow": null,
            "_model_module_version": "1.2.0",
            "_view_count": null,
            "flex_flow": null,
            "width": null,
            "min_width": null,
            "border": null,
            "align_items": null,
            "bottom": null,
            "_model_module": "@jupyter-widgets/base",
            "top": null,
            "grid_column": null,
            "overflow_y": null,
            "overflow_x": null,
            "grid_auto_flow": null,
            "grid_area": null,
            "grid_template_columns": null,
            "flex": null,
            "_model_name": "LayoutModel",
            "justify_items": null,
            "grid_row": null,
            "max_height": null,
            "align_content": null,
            "visibility": null,
            "align_self": null,
            "height": null,
            "min_height": null,
            "padding": null,
            "grid_auto_rows": null,
            "grid_gap": null,
            "max_width": null,
            "order": null,
            "_view_module_version": "1.2.0",
            "grid_template_areas": null,
            "object_position": null,
            "object_fit": null,
            "grid_auto_columns": null,
            "margin": null,
            "display": null,
            "left": null
          }
        }
      }
    }
  },
  "cells": [
    {
      "cell_type": "code",
      "metadata": {
        "id": "PFomJvQs3LVX"
      },
      "source": [
        "import numpy as np\n",
        "import torch\n",
        "from torch import optim, nn                         # These are specific submodules which contain useful functions. optim has optimizers like SGD, Adam\n",
        "import torch.nn.functional as F                     # nn has several Neural Network related functions\n",
        "from torch.utils.data import TensorDataset, DataLoader     # torch.nn.functional is often used as F or Fnn. It contains several useful implementations like F.linear, F.relu etc\n",
        "# np.random.seed(42)\n",
        "# torch.manual_seed(42)\n",
        "# torch.backends.cudnn.deterministic = True\n",
        "# torch.backends.cudnn.benchmark = False"
      ],
      "execution_count": null,
      "outputs": []
    },
    {
      "cell_type": "code",
      "metadata": {
        "id": "WMALvXE38xw2",
        "colab": {
          "base_uri": "https://localhost:8080/"
        },
        "outputId": "6701cdaf-7606-4ae6-8d25-21b1f4018f1d"
      },
      "source": [
        "a = np.random.randn(1, 4)\n",
        "b = np.random.randn(1, 4)\n",
        "\n",
        "print((a*b).shape)\n",
        "print(np.multiply(a, b).shape)\n",
        "\n",
        "1/4 * np.sum(a*b) == np.mean(a*b)"
      ],
      "execution_count": null,
      "outputs": [
        {
          "output_type": "stream",
          "text": [
            "(1, 4)\n",
            "(1, 4)\n"
          ],
          "name": "stdout"
        },
        {
          "output_type": "execute_result",
          "data": {
            "text/plain": [
              "True"
            ]
          },
          "metadata": {
            "tags": []
          },
          "execution_count": 3
        }
      ]
    },
    {
      "cell_type": "code",
      "metadata": {
        "id": "tYTRWxrN8KLg",
        "colab": {
          "base_uri": "https://localhost:8080/",
          "height": 279
        },
        "outputId": "9e830bff-19ac-44ac-e006-67d5bbfac9bc"
      },
      "source": [
        "from sklearn.datasets import make_moons\n",
        "import matplotlib.pyplot as plt\n",
        "from pandas import DataFrame\n",
        "\n",
        "# Generate a 2D classification dataset\n",
        "X, Y = make_moons(n_samples=1000, noise=0.1)\n",
        "df = DataFrame(dict(x=X[:,0], y=X[:,1], label=Y))\n",
        "colors = {0:'red', 1:'blue'}\n",
        "fig, ax = plt.subplots()\n",
        "grouped = df.groupby('label')\n",
        "for key, group in grouped:\n",
        "    group.plot(ax=ax, kind='scatter', x='x', y='y', label=key, color=colors[key])\n",
        "plt.show()"
      ],
      "execution_count": null,
      "outputs": [
        {
          "output_type": "display_data",
          "data": {
            "image/png": "[encoded data removed]",
            "text/plain": [
              "<Figure size 432x288 with 1 Axes>"
            ]
          },
          "metadata": {
            "tags": [],
            "needs_background": "light"
          }
        }
      ]
    },
    {
      "cell_type": "code",
      "metadata": {
        "id": "_aZ_R7AxKYnY",
        "colab": {
          "base_uri": "https://localhost:8080/"
        },
        "outputId": "7544a05d-402b-47bd-a455-10f3cebf1541"
      },
      "source": [
        "n_samples, n_features = X.shape\n",
        "n_y_samples, n_targets = Y.reshape(-1, 1).shape\n",
        "assert n_samples == n_y_samples\n",
        "\n",
        "print(X.shape, n_samples, n_features)\n",
        "print(Y.shape, n_targets)"
      ],
      "execution_count": null,
      "outputs": [
        {
          "output_type": "stream",
          "text": [
            "(1000, 2) 1000 2\n",
            "(1000,) 1\n"
          ],
          "name": "stdout"
        }
      ]
    },
    {
      "cell_type": "markdown",
      "metadata": {
        "id": "yOMB_AyQ9WG3"
      },
      "source": [
        "The above is a dataset for classification tasks. We'll try to build a neural network which can classify the above. Until now, you've been using NumPy for most of your mathematical purposes but here, we'll introduce you to PyTorch. PyTorch is a very powerful module in Python which is one of the best frameworks for working in Deep Learning. It has a lot of features which make it ideal for a beginner to start learning DL."
      ]
    },
    {
      "cell_type": "code",
      "metadata": {
        "id": "CdhZGEOX-HqO",
        "colab": {
          "base_uri": "https://localhost:8080/"
        },
        "outputId": "fc919437-5829-4796-e28e-d59106c3f7b2"
      },
      "source": [
        "# In torch, we use Tensors in place of numpy arrays. They're simply another data structure.\n",
        "a = np.array([1, 2, 3, 4])\n",
        "b = torch.Tensor([1, 2, 3, 4])\n",
        "\n",
        "# Note that even though the element at index 1 in b is 2, it's still considered a torch.Tensor\n",
        "print(a, type(a), a[1], type(a[1]))\n",
        "print(b, type(b), b[1], type(b[1]))"
      ],
      "execution_count": null,
      "outputs": [
        {
          "output_type": "stream",
          "text": [
            "[1 2 3 4] <class 'numpy.ndarray'> 2 <class 'numpy.int64'>\n",
            "tensor([1., 2., 3., 4.]) <class 'torch.Tensor'> tensor(2.) <class 'torch.Tensor'>\n"
          ],
          "name": "stdout"
        }
      ]
    },
    {
      "cell_type": "code",
      "metadata": {
        "id": "gQaS26ib-U1-",
        "colab": {
          "base_uri": "https://localhost:8080/"
        },
        "outputId": "82ca78af-e55d-4b91-d5b2-9733fa7e2611"
      },
      "source": [
        "# If you want to define an array with multiple dimensions\n",
        "a = np.random.random(size=(4, 3, 2))\n",
        "print(a, a.shape, type(a.shape)) # shape returns the dimensions of the numpy array as a tuple\n",
        "\n",
        "print(\"\\n\")\n",
        "# If you want to define a Tensor with multiple dimensions\n",
        "b = torch.rand(4, 3, 2)\n",
        "print(b, b.shape, type(b.shape)) # note that here, b.shape will return an object of the type torch.Size"
      ],
      "execution_count": null,
      "outputs": [
        {
          "output_type": "stream",
          "text": [
            "[[[0.29703686 0.26901561]\n",
            "  [0.78780652 0.01313242]\n",
            "  [0.09857081 0.70939029]]\n",
            "\n",
            " [[0.13801167 0.86552339]\n",
            "  [0.0614875  0.85175928]\n",
            "  [0.38419291 0.29386582]]\n",
            "\n",
            " [[0.51391087 0.87302256]\n",
            "  [0.54167334 0.05573886]\n",
            "  [0.20561234 0.5712388 ]]\n",
            "\n",
            " [[0.81605582 0.97923713]\n",
            "  [0.98500879 0.13715894]\n",
            "  [0.19172904 0.14421212]]] (4, 3, 2) <class 'tuple'>\n",
            "\n",
            "\n",
            "tensor([[[0.9063, 0.1881],\n",
            "         [0.1406, 0.0015],\n",
            "         [0.5599, 0.7493]],\n",
            "\n",
            "        [[0.4059, 0.2769],\n",
            "         [0.3190, 0.0712],\n",
            "         [0.9406, 0.2313]],\n",
            "\n",
            "        [[0.0598, 0.8671],\n",
            "         [0.0946, 0.7463],\n",
            "         [0.9439, 0.9814]],\n",
            "\n",
            "        [[0.4007, 0.7386],\n",
            "         [0.6029, 0.2874],\n",
            "         [0.8886, 0.0273]]]) torch.Size([4, 3, 2]) <class 'torch.Size'>\n"
          ],
          "name": "stdout"
        }
      ]
    },
    {
      "cell_type": "code",
      "metadata": {
        "id": "DFss3eE8_caj",
        "colab": {
          "base_uri": "https://localhost:8080/"
        },
        "outputId": "1b50739c-a68f-4219-bf07-e9588c4d84df"
      },
      "source": [
        "# Sometimes you'll need to convert numpy arrays to Tensors\n",
        "a = np.random.random(size=(4, 3, 2))\n",
        "print(a, \"\\n\")\n",
        "\n",
        "# We can use either of the following methods of which the latter is generally preferred\n",
        "b = torch.Tensor(a)     # This directly converts a numpy array to a torch Tensor\n",
        "print(b, \"\\n\")\n",
        "c = torch.from_numpy(a) # This creates a copy of the numpy array which it converts to a torch Tensor\n",
        "                        # It explicitly converts the type of the data within from np.type to torch.type\n",
        "print(c)\n",
        "\n",
        "# There's also d = torch.as_tensor(a) which is also used and can convert types \n",
        "# like collections.deque (yet another kind of data structure) into a torch tensor"
      ],
      "execution_count": null,
      "outputs": [
        {
          "output_type": "stream",
          "text": [
            "[[[0.49730777 0.82859297]\n",
            "  [0.86356609 0.7260386 ]\n",
            "  [0.56015864 0.22481779]]\n",
            "\n",
            " [[0.62940796 0.35379651]\n",
            "  [0.85713259 0.0851586 ]\n",
            "  [0.57773272 0.64290853]]\n",
            "\n",
            " [[0.62315844 0.31813192]\n",
            "  [0.90448385 0.0681786 ]\n",
            "  [0.11289664 0.94778469]]\n",
            "\n",
            " [[0.17989838 0.73024857]\n",
            "  [0.21121921 0.34142641]\n",
            "  [0.76342142 0.90949817]]] \n",
            "\n",
            "tensor([[[0.4973, 0.8286],\n",
            "         [0.8636, 0.7260],\n",
            "         [0.5602, 0.2248]],\n",
            "\n",
            "        [[0.6294, 0.3538],\n",
            "         [0.8571, 0.0852],\n",
            "         [0.5777, 0.6429]],\n",
            "\n",
            "        [[0.6232, 0.3181],\n",
            "         [0.9045, 0.0682],\n",
            "         [0.1129, 0.9478]],\n",
            "\n",
            "        [[0.1799, 0.7302],\n",
            "         [0.2112, 0.3414],\n",
            "         [0.7634, 0.9095]]]) \n",
            "\n",
            "tensor([[[0.4973, 0.8286],\n",
            "         [0.8636, 0.7260],\n",
            "         [0.5602, 0.2248]],\n",
            "\n",
            "        [[0.6294, 0.3538],\n",
            "         [0.8571, 0.0852],\n",
            "         [0.5777, 0.6429]],\n",
            "\n",
            "        [[0.6232, 0.3181],\n",
            "         [0.9045, 0.0682],\n",
            "         [0.1129, 0.9478]],\n",
            "\n",
            "        [[0.1799, 0.7302],\n",
            "         [0.2112, 0.3414],\n",
            "         [0.7634, 0.9095]]], dtype=torch.float64)\n"
          ],
          "name": "stdout"
        }
      ]
    },
    {
      "cell_type": "markdown",
      "metadata": {
        "id": "px4ExGbTARYQ"
      },
      "source": [
        "By now, I guess you would've already read a little about Gradient Descent and understood Logistic Regression well. This next step will be slightly more complex. We'll be combining Linear layers on top of each other, except there will be activation layers in the middle.\n",
        "\n",
        "This basically means that we'll take one equation $y = W_1 X + b_1$ and another equation $y = W_2 X + b_2$ but if we just stack these one on top of other, we'll just get another linear equation (substitute y from first equation in the second)\n",
        "\n",
        "Now what if we put some non-linear equation in the middle of these two equations? Say $y = g(x)$. One example of a non-linear function would be the sigmoid function as you would know from logistic regression. Another interesting non-linear function is the ReLU function. The Rectified Linear Unit is a very simple yet powerful activation function. It has been hypothesised that the signals our body's neurons send are the closest to ReLUs. For a more detailed list and analysis of pros and cons, check out https://ml-cheatsheet.readthedocs.io/en/latest/activation_functions.html\n",
        "\n",
        "The ReLU is simply the function \\\n",
        "$y = x$ if $x > 0$ \\\n",
        "$y = 0$ if $x < 0$\n",
        "\n",
        "We'll be using the ReLU to build our neural network in this example. Since this is a classifier, our last layer should be either a sigmoid (for two classes) or a softmax (for multiple classes). Here we'll use a sigmoid.\n",
        "\n",
        "Note that I'm not going to show any proofs or mathematical working for the following. You would learn best if you did some of the math yourself by calculating the individual gradients etc.\n",
        "\n",
        "Also, from here on, we'll do the math in Torch. Note that this kind of coding is not generally done in torch and we use other stuff for that but since we wanted to give you a solid understanding of Torch usage, we used Torch here instead of numpy."
      ]
    },
    {
      "cell_type": "code",
      "metadata": {
        "id": "VxPVrHTXFv96"
      },
      "source": [
        "def relu(z):\n",
        "    return torch.max(torch.zeros_like(z), z)           # If you don't understand what a function does, go through its documentation by googling it\n",
        "                                                       # Otherwise, the math is something you can do yourself\n",
        "def relu_backward(z, da):\n",
        "    dz = torch.clone(da)\n",
        "    dz[z < 0] = 0\n",
        "    return dz\n",
        "\n",
        "def sigmoid(z):\n",
        "    return 1/(1+torch.exp(-z))\n",
        "\n",
        "def sigmoid_backward(z, da):                            # The da term signifies the gradient of a w.r.t. to the variable that it was used to compute\n",
        "    return da * sigmoid(z) * sigmoid(1-z)"
      ],
      "execution_count": null,
      "outputs": []
    },
    {
      "cell_type": "code",
      "metadata": {
        "id": "alX6VGt4QovB"
      },
      "source": [
        "def crossentropy(yp, yl):       # yp = predicted values, yl = actual labels of values\n",
        "    m = n_targets               # Number of targets = 10 in this case (number between 1 and 10)\n",
        "    yl = yl.unsqueeze(1)\n",
        "    loss = -1/n_targets * (torch.mul(yl, torch.log(yp)) + torch.mul(1-yl, torch.log(1-yp)))\n",
        "    assert not torch.any(torch.isnan(loss))     # Checks if any element of loss has a nan value. Only passes if there is no nan value.\n",
        "    return torch.sum(loss)\n",
        "\n",
        "def crossentropy_backward(yp, yl):\n",
        "    m = n_targets\n",
        "    yl = yl.unsqueeze(1)\n",
        "    loss_backward = -1/n_targets * (torch.div(yl, yp) - torch.div(1-yl, 1-yp))\n",
        "    assert not torch.any(torch.isnan(loss_backward))\n",
        "    return loss_backward\n",
        "\n",
        "def mseloss(yp, yl):\n",
        "    yl = yl.unsqueeze(1)\n",
        "    loss = (yp-yl) ** 2\n",
        "    return torch.sum(loss)\n",
        "\n",
        "def mseloss_backward(yp, yl):\n",
        "    yl = yl.unsqueeze(1)\n",
        "    return 2*(yp-yl)"
      ],
      "execution_count": null,
      "outputs": []
    },
    {
      "cell_type": "code",
      "metadata": {
        "id": "L2R4_G_bJy7b"
      },
      "source": [
        "def calc_accuracy(a, y):                            # Helper function to calculate accuracy\n",
        "    a = torch.max(a, dim=1)[1]\n",
        "    assert not torch.any(torch.isnan(a))\n",
        "    return torch.mean((a == y).float()).item()"
      ],
      "execution_count": null,
      "outputs": []
    },
    {
      "cell_type": "code",
      "metadata": {
        "id": "BcbyAl8cLA0v"
      },
      "source": [
        "n_samples = X.shape[0]\n",
        "n_features = X.shape[1]\n",
        "n_targets = len(set(Y))\n",
        "n_hidden = [8, 8]\n",
        "\n",
        "architecture = [n_features] + list(n_hidden) + [n_targets]          # Defining the architecture of our neural network. In this case, we have 1 input layer of 2 neurons,\n",
        "                                                                    # 1 hidden layer of 32 neurons each and 1 output layer of 2 neurons. \n",
        "                                                                    # There's a limit to how well this works as the input and output layers are pretty small. "
      ],
      "execution_count": null,
      "outputs": []
    },
    {
      "cell_type": "code",
      "metadata": {
        "id": "smDBThE2kofV"
      },
      "source": [
        "def init_params():              # Helper function to initialise weights\n",
        "    params = {}\n",
        "    for j in range(1, len(architecture)):\n",
        "        params[\"W\" + str(j)] = torch.randn((architecture[j-1], architecture[j])) * 1e-3\n",
        "        params[\"b\" + str(j)] = torch.randn((1, architecture[j])) * 1e-3\n",
        "    return params"
      ],
      "execution_count": null,
      "outputs": []
    },
    {
      "cell_type": "code",
      "metadata": {
        "id": "q3jdUtaIk8yE"
      },
      "source": [
        "def batch_loader(batch_size):             # Helper function that can be used to load batches of x, y for Stochastic Gradient Descent\n",
        "    for _ in range(int(n_samples / batch_size)):            # Not used here because it gives unstable results\n",
        "        batch_indices = torch.randint(0, n_samples, (batch_size,))\n",
        "\n",
        "        x = torch.FloatTensor(X[batch_indices]).view(-1, n_features)\n",
        "        y = torch.FloatTensor(Y[batch_indices])\n",
        "\n",
        "        yield x, y"
      ],
      "execution_count": null,
      "outputs": []
    },
    {
      "cell_type": "code",
      "metadata": {
        "id": "jMLB-SNC9meY"
      },
      "source": [
        "batch_size = 32\n",
        "\n",
        "train_dataset = TensorDataset(torch.FloatTensor(X), torch.LongTensor(Y))\n",
        "train_loader = DataLoader(train_dataset, shuffle=True, batch_size=batch_size)       # We use this for loading stable batches for gradient descent. "
      ],
      "execution_count": null,
      "outputs": []
    },
    {
      "cell_type": "code",
      "metadata": {
        "id": "MtRPUteelBhI",
        "colab": {
          "base_uri": "https://localhost:8080/"
        },
        "outputId": "4703ddda-d1c6-42de-f294-9ec20e9692a9"
      },
      "source": [
        "num_epochs = 100\n",
        "learning_rate = 0.1\n",
        "\n",
        "params = {}\n",
        "memory = {}\n",
        "loss_history = []\n",
        "accuracy_history = []\n",
        "params = init_params()\n",
        "\n",
        "import time                 # Module that helps us time the runtime of code\n",
        "\n",
        "start = time.time()\n",
        "\n",
        "for epoch in range(1, num_epochs+1):\n",
        "    epoch_loss = 0\n",
        "    epoch_accuracy = 0\n",
        "\n",
        "    for x, y in train_loader:\n",
        "        x = x.view(-1, n_features)\n",
        "        y = y.view(-1).float()\n",
        "\n",
        "        # Forward propogation:\n",
        "        memory[\"a0\"] = x\n",
        "        for j in range(1, len(architecture)):\n",
        "            W, b = params[\"W\" + str(j)], params[\"b\" + str(j)]\n",
        "            a_prev = memory[\"a\" + str(j-1)]\n",
        "\n",
        "            z = a_prev.matmul(W) + b            # torch.dot can be used only for 1D arrays.(Even in numpy, np.matmul is preferable to np.dot, read up the differences if you want)\n",
        "            memory[\"z\" + str(j)] = z            # This can be written as memory[\"z\" + str(j)] = memory[\"a\" + str(j-1)].matmul(params[\"W\" + str(j)]) + params[\"b\" + str(j)]\n",
        "                                                # For example, for j = 1, z1 = a0 . W1 + b1\n",
        "            if j < len(architecture) - 1:       # In case you want to try changing all sigmoids before the final layer to ReLUs. Doesn't work in this case cos of too few inputs.\n",
        "                a = sigmoid(z)\n",
        "            else:\n",
        "                a = sigmoid(z)\n",
        "            memory[\"a\" + str(j)] = a            # In case that helps you better understand it that way\n",
        "\n",
        "        loss = crossentropy(a, y).item()                # .item() Converts the loss value from a 0-D Tensor to a simple float\n",
        "        accuracy = calc_accuracy(a, y)\n",
        "\n",
        "        epoch_loss += loss / n_samples * batch_size\n",
        "        epoch_accuracy += accuracy / n_samples * batch_size\n",
        "\n",
        "        # Backward propogation:\n",
        "        da = None\n",
        "        for j in reversed(range(1, len(architecture))):\n",
        "            W, b = params[\"W\" + str(j)], params[\"b\" + str(j)]\n",
        "            z, a = memory[\"z\" + str(j)], memory[\"a\" + str(j)]\n",
        "            a_prev = memory[\"a\" + str(j-1)]\n",
        "\n",
        "            if da is None:\n",
        "                da = crossentropy_backward(a, y)                          # This is the gradient of a w.r.t. loss. Means dL/da.\n",
        "            else:\n",
        "                da = da_prev\n",
        "            assert da.shape == a.shape\n",
        "            if j < len(architecture) - 1:\n",
        "                dz = sigmoid_backward(z, da)\n",
        "            else:\n",
        "                dz = sigmoid_backward(z, da)\n",
        "            assert dz.shape == z.shape                                    # Put these in just in case we don't compute tensors with wrong dimensions\n",
        "            dW = a_prev.T.matmul(dz)\n",
        "            assert dW.shape == W.shape\n",
        "            db = 1/batch_size * torch.sum(dz, dim=0, keepdim=True)        # If you don't understand what this means, find out from the documentation of torch.sum()\n",
        "            assert db.shape == b.shape\n",
        "            da_prev = dz.matmul(W.T)\n",
        "            assert da_prev.shape == a_prev.shape\n",
        "\n",
        "            # Now that we have the gradients, let's update the params\n",
        "            params[\"W\" + str(j)] -= learning_rate * dW\n",
        "            params[\"b\" + str(j)] -= learning_rate * db\n",
        "        \n",
        "    loss_history.append(epoch_loss)\n",
        "    accuracy_history.append(epoch_accuracy)\n",
        "\n",
        "    if epoch % 5 == 0:\n",
        "        print(\"Epoch: {}, Loss: {}, Accuracy: {}\".format(epoch, round(epoch_loss, 3), round(epoch_accuracy*100, 3)))\n",
        "\n",
        "end = time.time()\n",
        "\n",
        "print(\"\\n\\nTime taken = {} s\".format(end-start))"
      ],
      "execution_count": null,
      "outputs": [
        {
          "output_type": "stream",
          "text": [
            "Epoch: 5, Loss: 14.268, Accuracy: 85.6\n",
            "Epoch: 10, Loss: 10.1, Accuracy: 89.2\n",
            "Epoch: 15, Loss: 9.631, Accuracy: 89.3\n",
            "Epoch: 20, Loss: 9.366, Accuracy: 90.0\n",
            "Epoch: 25, Loss: 9.257, Accuracy: 90.0\n",
            "Epoch: 30, Loss: 9.333, Accuracy: 89.8\n",
            "Epoch: 35, Loss: 9.271, Accuracy: 90.2\n",
            "Epoch: 40, Loss: 9.314, Accuracy: 89.0\n",
            "Epoch: 45, Loss: 9.141, Accuracy: 89.4\n",
            "Epoch: 50, Loss: 9.01, Accuracy: 87.1\n",
            "Epoch: 55, Loss: 9.151, Accuracy: 80.9\n",
            "Epoch: 60, Loss: 9.198, Accuracy: 75.2\n",
            "Epoch: 65, Loss: 9.06, Accuracy: 66.2\n",
            "Epoch: 70, Loss: 9.269, Accuracy: 66.5\n",
            "Epoch: 75, Loss: 9.164, Accuracy: 65.3\n",
            "Epoch: 80, Loss: 9.301, Accuracy: 63.5\n",
            "Epoch: 85, Loss: 9.317, Accuracy: 58.8\n",
            "Epoch: 90, Loss: 8.974, Accuracy: 55.2\n",
            "Epoch: 95, Loss: 8.986, Accuracy: 55.1\n",
            "Epoch: 100, Loss: 9.12, Accuracy: 54.8\n",
            "\n",
            "\n",
            "Time taken = 3.747494697570801 s\n"
          ],
          "name": "stdout"
        }
      ]
    },
    {
      "cell_type": "code",
      "metadata": {
        "id": "0PSVBLSqnNG-",
        "colab": {
          "base_uri": "https://localhost:8080/",
          "height": 279
        },
        "outputId": "cac89a39-346f-4ca1-c464-afbb4b1212c4"
      },
      "source": [
        "fig, ax = plt.subplots()\n",
        "\n",
        "ax.plot(loss_history, color=\"blue\")\n",
        "ax.set_xlabel(\"Num Epochs\")\n",
        "ax.set_ylabel(\"Loss\")\n",
        "\n",
        "ax2 = ax.twinx()\n",
        "ax2.plot(accuracy_history, color=\"red\")\n",
        "ax2.set_ylabel(\"Accuracy\")\n",
        "\n",
        "plt.show()"
      ],
      "execution_count": null,
      "outputs": [
        {
          "output_type": "display_data",
          "data": {
            "image/png": "[encoded data removed]",
            "text/plain": [
              "<Figure size 432x288 with 2 Axes>"
            ]
          },
          "metadata": {
            "tags": [],
            "needs_background": "light"
          }
        }
      ]
    },
    {
      "cell_type": "markdown",
      "metadata": {
        "id": "hGx5eyex10IS"
      },
      "source": [
        "There's a lot of stuff to understand over here for this to make sense. First of all, note that we shouldn't really be judging our model based on the accuracy it gives. When we define our loss function, we tell our model that we want it to minimise the loss function, hence accuracy is immaterial to the model. Also note that this is not a perfect foolproof implementation and there are some things that need to be taken care of. Also, it's often a good idea to have these models terminate when the results start to stagnate (loss becomes constant and accuracy seems reasonable and constant too).\n",
        "\n",
        "This is stochastic gradient descent, so it DOES NOT mean that the loss function will always converge perfectly (if every epoch reduces the loss a little bit). And you will notice that since we use the crossentropy loss, if our `a` terms become close to 0, `torch.log(y_hat)` will return `nan` values. This will make our loss value `nan`. If you encounter this, try changing the hyperparameters and tune accordingly.\n",
        "\n",
        "However, you may think of making your accuracy your loss function, however that's not possible because the accuracy function is not differentiable and you would have to find methods other than gradient descent to solve it and then it wouldn't really need a neural network anymore. \n",
        "\n",
        "The performance of the network is not as good as the following approach. See if you can figure out what the reasons may be :P"
      ]
    },
    {
      "cell_type": "markdown",
      "metadata": {
        "id": "aI7QzDop6zUJ"
      },
      "source": [
        "Now, let's do the same thing in the way we would actually use Pytorch. Pytorch by default keeps track of every operation that's being performed on each variable so we don't need memory holders like `memory` and don't have to explicitly calculate gradients for everything. When we go ahead to using more complex architectures, you'll find that this is an extremely convinient feature."
      ]
    },
    {
      "cell_type": "code",
      "metadata": {
        "id": "WpU4fTS9hTkl",
        "colab": {
          "base_uri": "https://localhost:8080/"
        },
        "outputId": "a4c986e7-3c9d-4a91-a461-40d65e3072a7"
      },
      "source": [
        "# Of course, all this is pointless because Pytorch achieves the same in the following\n",
        "\n",
        "class NN(nn.Module):                                                    # This is a class for Neural Networks. It can be used to instantiate new neural network objects\n",
        "    def __init__(self, input_dim, hidden_dim, output_dim):\n",
        "        super(NN, self).__init__()\n",
        "\n",
        "        self.fc1 = nn.Linear(input_dim, hidden_dim)                     # This simply says that there is a Linear layer. (the weights are initialised automatically)\n",
        "        self.fc2 = nn.Linear(hidden_dim, output_dim)\n",
        "    \n",
        "    def forward(self, x):\n",
        "        x = torch.sigmoid(self.fc1(x))                                  # Performs the sigmoid operation after applying a linear operation\n",
        "        x = torch.sigmoid(self.fc2(x))\n",
        "        return x\n",
        "\n",
        "\n",
        "model = NN(n_features, n_hidden[0], n_targets)\n",
        "loss_history = []\n",
        "accuracy_history = []\n",
        "\n",
        "batch_size = 32\n",
        "optimizer = optim.SGD(model.parameters(), lr=0.1)                       # In DL, we use optimizers which take in the relevant parameters (in this case, our linear layers)\n",
        "num_epochs = 100                                                        # and we train them later on\n",
        "\n",
        "train_dataset = TensorDataset(torch.FloatTensor(X), torch.LongTensor(Y))\n",
        "train_loader = DataLoader(train_dataset, shuffle=True, batch_size=batch_size)\n",
        "\n",
        "start = time.time()\n",
        "\n",
        "for epoch in range(num_epochs):\n",
        "    epoch_loss = 0\n",
        "    epoch_accuracy = 0\n",
        "    for datapoints, labels in train_loader:\n",
        "        x = datapoints.view(-1, n_features)\n",
        "        y = labels.view(-1)                             # Converts y to a Long tensor (long integer type)\n",
        "        \n",
        "        z = model(x)                                    # Applies all operations in Neural Network to x\n",
        "        loss = F.cross_entropy(z, y)                    # Applies cross entropy loss function\n",
        "        optimizer.zero_grad()                           # All gradients are reset to 0\n",
        "        loss.backward()                                 # Gradients of all variables used to calculate the loss variable are calculated (using a computation graph)\n",
        "        optimizer.step()                                # Stochastic gradient descent is applied to all the trainable variables (our linear layers)\n",
        "\n",
        "        accuracy = calc_accuracy(z, y)\n",
        "\n",
        "        epoch_loss += loss.item() / n_samples * batch_size\n",
        "        epoch_accuracy += accuracy / n_samples * batch_size\n",
        "\n",
        "    loss_history.append(epoch_loss)\n",
        "    accuracy_history.append(epoch_accuracy)\n",
        "\n",
        "    if epoch % 5 == 0:\n",
        "        print(\"Epoch: {}, Loss: {}, Accuracy: {}\".format(epoch, round(epoch_loss, 3), round(epoch_accuracy*100, 3)))\n",
        "\n",
        "end = time.time()\n",
        "\n",
        "print(\"\\n\\nTime taken = {} s\".format(end-start))"
      ],
      "execution_count": null,
      "outputs": [
        {
          "output_type": "stream",
          "text": [
            "Epoch: 0, Loss: 0.724, Accuracy: 50.9\n",
            "Epoch: 5, Loss: 0.692, Accuracy: 66.3\n",
            "Epoch: 10, Loss: 0.664, Accuracy: 74.8\n",
            "Epoch: 15, Loss: 0.631, Accuracy: 76.6\n",
            "Epoch: 20, Loss: 0.596, Accuracy: 79.3\n",
            "Epoch: 25, Loss: 0.565, Accuracy: 80.8\n",
            "Epoch: 30, Loss: 0.543, Accuracy: 81.9\n",
            "Epoch: 35, Loss: 0.528, Accuracy: 82.4\n",
            "Epoch: 40, Loss: 0.515, Accuracy: 83.3\n",
            "Epoch: 45, Loss: 0.503, Accuracy: 84.2\n",
            "Epoch: 50, Loss: 0.496, Accuracy: 85.3\n",
            "Epoch: 55, Loss: 0.49, Accuracy: 85.7\n",
            "Epoch: 60, Loss: 0.485, Accuracy: 86.1\n",
            "Epoch: 65, Loss: 0.485, Accuracy: 85.8\n",
            "Epoch: 70, Loss: 0.472, Accuracy: 88.0\n",
            "Epoch: 75, Loss: 0.471, Accuracy: 87.5\n",
            "Epoch: 80, Loss: 0.467, Accuracy: 87.9\n",
            "Epoch: 85, Loss: 0.464, Accuracy: 88.0\n",
            "Epoch: 90, Loss: 0.46, Accuracy: 88.5\n",
            "Epoch: 95, Loss: 0.457, Accuracy: 88.8\n",
            "\n",
            "\n",
            "Time taken = 3.029741048812866 s\n"
          ],
          "name": "stdout"
        }
      ]
    },
    {
      "cell_type": "code",
      "metadata": {
        "id": "dn3jPUG94_us",
        "colab": {
          "base_uri": "https://localhost:8080/",
          "height": 279
        },
        "outputId": "cdd2f68f-3d98-4934-946e-8cb1458bce85"
      },
      "source": [
        "fig, ax = plt.subplots()\n",
        "\n",
        "ax.plot(loss_history, color=\"blue\")\n",
        "ax.set_xlabel(\"Num Epochs\")\n",
        "ax.set_ylabel(\"Loss\")\n",
        "\n",
        "ax2 = ax.twinx()\n",
        "ax2.plot(accuracy_history, color=\"red\")\n",
        "ax2.set_ylabel(\"Accuracy\")\n",
        "\n",
        "plt.show()"
      ],
      "execution_count": null,
      "outputs": [
        {
          "output_type": "display_data",
          "data": {
            "image/png": "[encoded data removed]",
            "text/plain": [
              "<Figure size 432x288 with 2 Axes>"
            ]
          },
          "metadata": {
            "tags": [],
            "needs_background": "light"
          }
        }
      ]
    },
    {
      "cell_type": "markdown",
      "metadata": {
        "id": "kC6hoaIi6D0F"
      },
      "source": [
        "This is still a pretty simple way to use Pytorch. You must have noticed that the latter implementation is slightly faster (because it is a highly optimized library) and that it converges much better and much more surely. It takes care of several other problems too such as the `nan` loss problem with its implementations. Hence the __much__ smoother curves.\n",
        "\n",
        "We wouldn't generally apply Deep Learning on such small datasets for doing tiny classification tasks that we can do with other ML algorithms and get a higher accuracy for. DL is much better applied to larger datasets."
      ]
    },
    {
      "cell_type": "code",
      "metadata": {
        "id": "YxQVONGf8Glv"
      },
      "source": [
        "from torchvision import transforms, datasets\n",
        "from torch.utils.data import DataLoader"
      ],
      "execution_count": null,
      "outputs": []
    },
    {
      "cell_type": "code",
      "metadata": {
        "id": "TydnxGtQ8KQf",
        "colab": {
          "base_uri": "https://localhost:8080/",
          "height": 811,
          "referenced_widgets": [
            "2a8c556f319b47f4acc7b045787380aa",
            "506530e8de364d11a1c9b530799d91ba",
            "9b294f01dc84486a9b9ebbeae85af15c",
            "0e8aa363b81c4319aba446a99108419f",
            "f70893c700ae4d68a192084fa31b5e58",
            "5007b7cedbd14a5d9ac9cd4208019979",
            "3b72a85fba0d48ac98707ddbe5047f1c",
            "5d639a49fd4d4ebb884ee0d41b342eeb",
            "a2c5c421c2ef44f8bdbcec903a51f891",
            "cb0cdd9ee11e47c7bc466e12dfe696fd",
            "9e1a4315064f4ae4becb8459afa3d101",
            "ef2fc1089cef412ab8e790c43c82619d",
            "bbbee7f5473a43be917aba7552f35ebb",
            "ce39d0540a804f0193b1eb399d9f662b",
            "b20e227bf105411687869f19e01f1df9",
            "80778ca2346d4a28b93f2e1028860942",
            "7e01f8dcf0c645eda6ea0ec677dec28c",
            "fe7632dd0b824f218014b453f0127262",
            "111b3367906f40a79da9f1d830203695",
            "f1afe5a8e9ee40b5adc893dc161b881f",
            "d7f19690ca714be09d6bf04e001bee9a",
            "01c67e60a3ff404d87caa0ac244e5460",
            "f7d5fdbfe8874104a407805937c65b6e",
            "9b8c9ddb47e34aba862937596aac275f",
            "30241275ddd94f78955bdb2d9d198b33",
            "18cacba912464917838f6c8d8c19ef97",
            "aedf0edf38094324a46c1436b426c4b2",
            "438e303eda244607af07109140a8fd0b",
            "8d5ed172ca5244089c71fa3a74523d03",
            "f31efec5808548889fff5a976d796a5c",
            "32042cc8b0f24637bcf4718a22944bfd",
            "e33d4d94c4c54a0ea6d1b65d392042a1"
          ]
        },
        "outputId": "3bb7fd68-8dac-4461-fd48-073e9109762c"
      },
      "source": [
        "# If you've watched the 3B1B Neural Network's video, you'll recognise the following dataset\n",
        "\n",
        "transform = transforms.ToTensor()\n",
        "train_dataset = datasets.MNIST(root=\"./\", train=True, transform=transform, download=True)       # Downloads the MNIST dataset into 2 parts: train and test\n",
        "test_dataset = datasets.MNIST(root=\"./\", train=False, transform=transform)                      # We train on 60,000 images first, then we test our model on 10,000 unseen images\n",
        "\n",
        "batch_size = 64\n",
        "train_loader = DataLoader(train_dataset, batch_size=batch_size, shuffle=True)                   # This is like our batch_loader function except it loads 60000/batch_size\n",
        "test_loader = DataLoader(test_dataset, batch_size=batch_size, shuffle=False)                    # no. of batches ()"
      ],
      "execution_count": null,
      "outputs": [
        {
          "output_type": "stream",
          "text": [
            "Downloading http://yann.lecun.com/exdb/mnist/train-images-idx3-ubyte.gz\n",
            "Failed to download (trying next):\n",
            "HTTP Error 503: Service Unavailable\n",
            "\n",
            "Downloading https://ossci-datasets.s3.amazonaws.com/mnist/train-images-idx3-ubyte.gz\n",
            "Downloading https://ossci-datasets.s3.amazonaws.com/mnist/train-images-idx3-ubyte.gz to ./MNIST/raw/train-images-idx3-ubyte.gz\n"
          ],
          "name": "stdout"
        },
        {
          "output_type": "display_data",
          "data": {
            "application/vnd.jupyter.widget-view+json": {
              "model_id": "2a8c556f319b47f4acc7b045787380aa",
              "version_minor": 0,
              "version_major": 2
            },
            "text/plain": [
              "HBox(children=(FloatProgress(value=0.0, max=9912422.0), HTML(value='')))"
            ]
          },
          "metadata": {
            "tags": []
          }
        },
        {
          "output_type": "stream",
          "text": [
            "\n",
            "Extracting ./MNIST/raw/train-images-idx3-ubyte.gz to ./MNIST/raw\n",
            "\n",
            "Downloading http://yann.lecun.com/exdb/mnist/train-labels-idx1-ubyte.gz\n",
            "Failed to download (trying next):\n",
            "HTTP Error 503: Service Unavailable\n",
            "\n",
            "Downloading https://ossci-datasets.s3.amazonaws.com/mnist/train-labels-idx1-ubyte.gz\n",
            "Downloading https://ossci-datasets.s3.amazonaws.com/mnist/train-labels-idx1-ubyte.gz to ./MNIST/raw/train-labels-idx1-ubyte.gz\n"
          ],
          "name": "stdout"
        },
        {
          "output_type": "display_data",
          "data": {
            "application/vnd.jupyter.widget-view+json": {
              "model_id": "a2c5c421c2ef44f8bdbcec903a51f891",
              "version_minor": 0,
              "version_major": 2
            },
            "text/plain": [
              "HBox(children=(FloatProgress(value=0.0, max=28881.0), HTML(value='')))"
            ]
          },
          "metadata": {
            "tags": []
          }
        },
        {
          "output_type": "stream",
          "text": [
            "\n",
            "Extracting ./MNIST/raw/train-labels-idx1-ubyte.gz to ./MNIST/raw\n",
            "\n",
            "Downloading http://yann.lecun.com/exdb/mnist/t10k-images-idx3-ubyte.gz\n",
            "Failed to download (trying next):\n",
            "HTTP Error 503: Service Unavailable\n",
            "\n",
            "Downloading https://ossci-datasets.s3.amazonaws.com/mnist/t10k-images-idx3-ubyte.gz\n",
            "Downloading https://ossci-datasets.s3.amazonaws.com/mnist/t10k-images-idx3-ubyte.gz to ./MNIST/raw/t10k-images-idx3-ubyte.gz\n"
          ],
          "name": "stdout"
        },
        {
          "output_type": "display_data",
          "data": {
            "application/vnd.jupyter.widget-view+json": {
              "model_id": "7e01f8dcf0c645eda6ea0ec677dec28c",
              "version_minor": 0,
              "version_major": 2
            },
            "text/plain": [
              "HBox(children=(FloatProgress(value=0.0, max=1648877.0), HTML(value='')))"
            ]
          },
          "metadata": {
            "tags": []
          }
        },
        {
          "output_type": "stream",
          "text": [
            "\n",
            "Extracting ./MNIST/raw/t10k-images-idx3-ubyte.gz to ./MNIST/raw\n",
            "\n",
            "Downloading http://yann.lecun.com/exdb/mnist/t10k-labels-idx1-ubyte.gz\n",
            "Failed to download (trying next):\n",
            "HTTP Error 503: Service Unavailable\n",
            "\n",
            "Downloading https://ossci-datasets.s3.amazonaws.com/mnist/t10k-labels-idx1-ubyte.gz\n",
            "Downloading https://ossci-datasets.s3.amazonaws.com/mnist/t10k-labels-idx1-ubyte.gz to ./MNIST/raw/t10k-labels-idx1-ubyte.gz\n"
          ],
          "name": "stdout"
        },
        {
          "output_type": "display_data",
          "data": {
            "application/vnd.jupyter.widget-view+json": {
              "model_id": "30241275ddd94f78955bdb2d9d198b33",
              "version_minor": 0,
              "version_major": 2
            },
            "text/plain": [
              "HBox(children=(FloatProgress(value=0.0, max=4542.0), HTML(value='')))"
            ]
          },
          "metadata": {
            "tags": []
          }
        },
        {
          "output_type": "stream",
          "text": [
            "\n",
            "Extracting ./MNIST/raw/t10k-labels-idx1-ubyte.gz to ./MNIST/raw\n",
            "\n"
          ],
          "name": "stdout"
        },
        {
          "output_type": "stream",
          "text": [
            "/usr/local/lib/python3.7/dist-packages/torchvision/datasets/mnist.py:498: UserWarning: The given NumPy array is not writeable, and PyTorch does not support non-writeable tensors. This means you can write to the underlying (supposedly non-writeable) NumPy array using the tensor. You may want to copy the array to protect its data or make it writeable before converting it to a tensor. This type of warning will be suppressed for the rest of this program. (Triggered internally at  /pytorch/torch/csrc/utils/tensor_numpy.cpp:180.)\n",
            "  return torch.from_numpy(parsed.astype(m[2], copy=False)).view(*s)\n"
          ],
          "name": "stderr"
        }
      ]
    },
    {
      "cell_type": "code",
      "metadata": {
        "id": "4fdBmWllAUjd",
        "colab": {
          "base_uri": "https://localhost:8080/"
        },
        "outputId": "02acc79c-1ca9-44dd-a55b-52c49f0965d9"
      },
      "source": [
        "train_dataset"
      ],
      "execution_count": null,
      "outputs": [
        {
          "output_type": "execute_result",
          "data": {
            "text/plain": [
              "Dataset MNIST\n",
              "    Number of datapoints: 60000\n",
              "    Root location: ./\n",
              "    Split: Train\n",
              "    StandardTransform\n",
              "Transform: ToTensor()"
            ]
          },
          "metadata": {
            "tags": []
          },
          "execution_count": 22
        }
      ]
    },
    {
      "cell_type": "code",
      "metadata": {
        "id": "x5dKjq5P9BcZ"
      },
      "source": [
        "image, label = train_dataset[0]         # This will load the image and it's respective label onto the variables image, label"
      ],
      "execution_count": null,
      "outputs": []
    },
    {
      "cell_type": "code",
      "metadata": {
        "id": "XJEDh-_e-Zh_",
        "colab": {
          "base_uri": "https://localhost:8080/"
        },
        "outputId": "623ad6a2-44f7-43f5-a7c4-66025de860e9"
      },
      "source": [
        "print(image)\n",
        "print(image.shape)"
      ],
      "execution_count": null,
      "outputs": [
        {
          "output_type": "stream",
          "text": [
            "tensor([[[0.0000, 0.0000, 0.0000, 0.0000, 0.0000, 0.0000, 0.0000, 0.0000,\n",
            "          0.0000, 0.0000, 0.0000, 0.0000, 0.0000, 0.0000, 0.0000, 0.0000,\n",
            "          0.0000, 0.0000, 0.0000, 0.0000, 0.0000, 0.0000, 0.0000, 0.0000,\n",
            "          0.0000, 0.0000, 0.0000, 0.0000],\n",
            "         [0.0000, 0.0000, 0.0000, 0.0000, 0.0000, 0.0000, 0.0000, 0.0000,\n",
            "          0.0000, 0.0000, 0.0000, 0.0000, 0.0000, 0.0000, 0.0000, 0.0000,\n",
            "          0.0000, 0.0000, 0.0000, 0.0000, 0.0000, 0.0000, 0.0000, 0.0000,\n",
            "          0.0000, 0.0000, 0.0000, 0.0000],\n",
            "         [0.0000, 0.0000, 0.0000, 0.0000, 0.0000, 0.0000, 0.0000, 0.0000,\n",
            "          0.0000, 0.0000, 0.0000, 0.0000, 0.0000, 0.0000, 0.0000, 0.0000,\n",
            "          0.0000, 0.0000, 0.0000, 0.0000, 0.0000, 0.0000, 0.0000, 0.0000,\n",
            "          0.0000, 0.0000, 0.0000, 0.0000],\n",
            "         [0.0000, 0.0000, 0.0000, 0.0000, 0.0000, 0.0000, 0.0000, 0.0000,\n",
            "          0.0000, 0.0000, 0.0000, 0.0000, 0.0000, 0.0000, 0.0000, 0.0000,\n",
            "          0.0000, 0.0000, 0.0000, 0.0000, 0.0000, 0.0000, 0.0000, 0.0000,\n",
            "          0.0000, 0.0000, 0.0000, 0.0000],\n",
            "         [0.0000, 0.0000, 0.0000, 0.0000, 0.0000, 0.0000, 0.0000, 0.0000,\n",
            "          0.0000, 0.0000, 0.0000, 0.0000, 0.0000, 0.0000, 0.0000, 0.0000,\n",
            "          0.0000, 0.0000, 0.0000, 0.0000, 0.0000, 0.0000, 0.0000, 0.0000,\n",
            "          0.0000, 0.0000, 0.0000, 0.0000],\n",
            "         [0.0000, 0.0000, 0.0000, 0.0000, 0.0000, 0.0000, 0.0000, 0.0000,\n",
            "          0.0000, 0.0000, 0.0000, 0.0000, 0.0118, 0.0706, 0.0706, 0.0706,\n",
            "          0.4941, 0.5333, 0.6863, 0.1020, 0.6510, 1.0000, 0.9686, 0.4980,\n",
            "          0.0000, 0.0000, 0.0000, 0.0000],\n",
            "         [0.0000, 0.0000, 0.0000, 0.0000, 0.0000, 0.0000, 0.0000, 0.0000,\n",
            "          0.1176, 0.1412, 0.3686, 0.6039, 0.6667, 0.9922, 0.9922, 0.9922,\n",
            "          0.9922, 0.9922, 0.8824, 0.6745, 0.9922, 0.9490, 0.7647, 0.2510,\n",
            "          0.0000, 0.0000, 0.0000, 0.0000],\n",
            "         [0.0000, 0.0000, 0.0000, 0.0000, 0.0000, 0.0000, 0.0000, 0.1922,\n",
            "          0.9333, 0.9922, 0.9922, 0.9922, 0.9922, 0.9922, 0.9922, 0.9922,\n",
            "          0.9922, 0.9843, 0.3647, 0.3216, 0.3216, 0.2196, 0.1529, 0.0000,\n",
            "          0.0000, 0.0000, 0.0000, 0.0000],\n",
            "         [0.0000, 0.0000, 0.0000, 0.0000, 0.0000, 0.0000, 0.0000, 0.0706,\n",
            "          0.8588, 0.9922, 0.9922, 0.9922, 0.9922, 0.9922, 0.7765, 0.7137,\n",
            "          0.9686, 0.9451, 0.0000, 0.0000, 0.0000, 0.0000, 0.0000, 0.0000,\n",
            "          0.0000, 0.0000, 0.0000, 0.0000],\n",
            "         [0.0000, 0.0000, 0.0000, 0.0000, 0.0000, 0.0000, 0.0000, 0.0000,\n",
            "          0.3137, 0.6118, 0.4196, 0.9922, 0.9922, 0.8039, 0.0431, 0.0000,\n",
            "          0.1686, 0.6039, 0.0000, 0.0000, 0.0000, 0.0000, 0.0000, 0.0000,\n",
            "          0.0000, 0.0000, 0.0000, 0.0000],\n",
            "         [0.0000, 0.0000, 0.0000, 0.0000, 0.0000, 0.0000, 0.0000, 0.0000,\n",
            "          0.0000, 0.0549, 0.0039, 0.6039, 0.9922, 0.3529, 0.0000, 0.0000,\n",
            "          0.0000, 0.0000, 0.0000, 0.0000, 0.0000, 0.0000, 0.0000, 0.0000,\n",
            "          0.0000, 0.0000, 0.0000, 0.0000],\n",
            "         [0.0000, 0.0000, 0.0000, 0.0000, 0.0000, 0.0000, 0.0000, 0.0000,\n",
            "          0.0000, 0.0000, 0.0000, 0.5451, 0.9922, 0.7451, 0.0078, 0.0000,\n",
            "          0.0000, 0.0000, 0.0000, 0.0000, 0.0000, 0.0000, 0.0000, 0.0000,\n",
            "          0.0000, 0.0000, 0.0000, 0.0000],\n",
            "         [0.0000, 0.0000, 0.0000, 0.0000, 0.0000, 0.0000, 0.0000, 0.0000,\n",
            "          0.0000, 0.0000, 0.0000, 0.0431, 0.7451, 0.9922, 0.2745, 0.0000,\n",
            "          0.0000, 0.0000, 0.0000, 0.0000, 0.0000, 0.0000, 0.0000, 0.0000,\n",
            "          0.0000, 0.0000, 0.0000, 0.0000],\n",
            "         [0.0000, 0.0000, 0.0000, 0.0000, 0.0000, 0.0000, 0.0000, 0.0000,\n",
            "          0.0000, 0.0000, 0.0000, 0.0000, 0.1373, 0.9451, 0.8824, 0.6275,\n",
            "          0.4235, 0.0039, 0.0000, 0.0000, 0.0000, 0.0000, 0.0000, 0.0000,\n",
            "          0.0000, 0.0000, 0.0000, 0.0000],\n",
            "         [0.0000, 0.0000, 0.0000, 0.0000, 0.0000, 0.0000, 0.0000, 0.0000,\n",
            "          0.0000, 0.0000, 0.0000, 0.0000, 0.0000, 0.3176, 0.9412, 0.9922,\n",
            "          0.9922, 0.4667, 0.0980, 0.0000, 0.0000, 0.0000, 0.0000, 0.0000,\n",
            "          0.0000, 0.0000, 0.0000, 0.0000],\n",
            "         [0.0000, 0.0000, 0.0000, 0.0000, 0.0000, 0.0000, 0.0000, 0.0000,\n",
            "          0.0000, 0.0000, 0.0000, 0.0000, 0.0000, 0.0000, 0.1765, 0.7294,\n",
            "          0.9922, 0.9922, 0.5882, 0.1059, 0.0000, 0.0000, 0.0000, 0.0000,\n",
            "          0.0000, 0.0000, 0.0000, 0.0000],\n",
            "         [0.0000, 0.0000, 0.0000, 0.0000, 0.0000, 0.0000, 0.0000, 0.0000,\n",
            "          0.0000, 0.0000, 0.0000, 0.0000, 0.0000, 0.0000, 0.0000, 0.0627,\n",
            "          0.3647, 0.9882, 0.9922, 0.7333, 0.0000, 0.0000, 0.0000, 0.0000,\n",
            "          0.0000, 0.0000, 0.0000, 0.0000],\n",
            "         [0.0000, 0.0000, 0.0000, 0.0000, 0.0000, 0.0000, 0.0000, 0.0000,\n",
            "          0.0000, 0.0000, 0.0000, 0.0000, 0.0000, 0.0000, 0.0000, 0.0000,\n",
            "          0.0000, 0.9765, 0.9922, 0.9765, 0.2510, 0.0000, 0.0000, 0.0000,\n",
            "          0.0000, 0.0000, 0.0000, 0.0000],\n",
            "         [0.0000, 0.0000, 0.0000, 0.0000, 0.0000, 0.0000, 0.0000, 0.0000,\n",
            "          0.0000, 0.0000, 0.0000, 0.0000, 0.0000, 0.0000, 0.1804, 0.5098,\n",
            "          0.7176, 0.9922, 0.9922, 0.8118, 0.0078, 0.0000, 0.0000, 0.0000,\n",
            "          0.0000, 0.0000, 0.0000, 0.0000],\n",
            "         [0.0000, 0.0000, 0.0000, 0.0000, 0.0000, 0.0000, 0.0000, 0.0000,\n",
            "          0.0000, 0.0000, 0.0000, 0.0000, 0.1529, 0.5804, 0.8980, 0.9922,\n",
            "          0.9922, 0.9922, 0.9804, 0.7137, 0.0000, 0.0000, 0.0000, 0.0000,\n",
            "          0.0000, 0.0000, 0.0000, 0.0000],\n",
            "         [0.0000, 0.0000, 0.0000, 0.0000, 0.0000, 0.0000, 0.0000, 0.0000,\n",
            "          0.0000, 0.0000, 0.0941, 0.4471, 0.8667, 0.9922, 0.9922, 0.9922,\n",
            "          0.9922, 0.7882, 0.3059, 0.0000, 0.0000, 0.0000, 0.0000, 0.0000,\n",
            "          0.0000, 0.0000, 0.0000, 0.0000],\n",
            "         [0.0000, 0.0000, 0.0000, 0.0000, 0.0000, 0.0000, 0.0000, 0.0000,\n",
            "          0.0902, 0.2588, 0.8353, 0.9922, 0.9922, 0.9922, 0.9922, 0.7765,\n",
            "          0.3176, 0.0078, 0.0000, 0.0000, 0.0000, 0.0000, 0.0000, 0.0000,\n",
            "          0.0000, 0.0000, 0.0000, 0.0000],\n",
            "         [0.0000, 0.0000, 0.0000, 0.0000, 0.0000, 0.0000, 0.0706, 0.6706,\n",
            "          0.8588, 0.9922, 0.9922, 0.9922, 0.9922, 0.7647, 0.3137, 0.0353,\n",
            "          0.0000, 0.0000, 0.0000, 0.0000, 0.0000, 0.0000, 0.0000, 0.0000,\n",
            "          0.0000, 0.0000, 0.0000, 0.0000],\n",
            "         [0.0000, 0.0000, 0.0000, 0.0000, 0.2157, 0.6745, 0.8863, 0.9922,\n",
            "          0.9922, 0.9922, 0.9922, 0.9569, 0.5216, 0.0431, 0.0000, 0.0000,\n",
            "          0.0000, 0.0000, 0.0000, 0.0000, 0.0000, 0.0000, 0.0000, 0.0000,\n",
            "          0.0000, 0.0000, 0.0000, 0.0000],\n",
            "         [0.0000, 0.0000, 0.0000, 0.0000, 0.5333, 0.9922, 0.9922, 0.9922,\n",
            "          0.8314, 0.5294, 0.5176, 0.0627, 0.0000, 0.0000, 0.0000, 0.0000,\n",
            "          0.0000, 0.0000, 0.0000, 0.0000, 0.0000, 0.0000, 0.0000, 0.0000,\n",
            "          0.0000, 0.0000, 0.0000, 0.0000],\n",
            "         [0.0000, 0.0000, 0.0000, 0.0000, 0.0000, 0.0000, 0.0000, 0.0000,\n",
            "          0.0000, 0.0000, 0.0000, 0.0000, 0.0000, 0.0000, 0.0000, 0.0000,\n",
            "          0.0000, 0.0000, 0.0000, 0.0000, 0.0000, 0.0000, 0.0000, 0.0000,\n",
            "          0.0000, 0.0000, 0.0000, 0.0000],\n",
            "         [0.0000, 0.0000, 0.0000, 0.0000, 0.0000, 0.0000, 0.0000, 0.0000,\n",
            "          0.0000, 0.0000, 0.0000, 0.0000, 0.0000, 0.0000, 0.0000, 0.0000,\n",
            "          0.0000, 0.0000, 0.0000, 0.0000, 0.0000, 0.0000, 0.0000, 0.0000,\n",
            "          0.0000, 0.0000, 0.0000, 0.0000],\n",
            "         [0.0000, 0.0000, 0.0000, 0.0000, 0.0000, 0.0000, 0.0000, 0.0000,\n",
            "          0.0000, 0.0000, 0.0000, 0.0000, 0.0000, 0.0000, 0.0000, 0.0000,\n",
            "          0.0000, 0.0000, 0.0000, 0.0000, 0.0000, 0.0000, 0.0000, 0.0000,\n",
            "          0.0000, 0.0000, 0.0000, 0.0000]]])\n",
            "torch.Size([1, 28, 28])\n"
          ],
          "name": "stdout"
        }
      ]
    },
    {
      "cell_type": "code",
      "metadata": {
        "id": "dCL3V7nA994_",
        "colab": {
          "base_uri": "https://localhost:8080/",
          "height": 282
        },
        "outputId": "38eaadfe-14c6-4dd8-de00-78d6ac58c00c"
      },
      "source": [
        "plt.imshow(transforms.ToPILImage()(image), cmap=\"gray\")\n",
        "# The coloring may fool you, but as you can see above, the image variable is just a collection of different pixel values.\n",
        "# There's only one color channel. 0.0000 represents the pure black. 1.0000 represents pure white.\n",
        "# Everything in between is some proportion of white and black (basically gray)"
      ],
      "execution_count": null,
      "outputs": [
        {
          "output_type": "execute_result",
          "data": {
            "text/plain": [
              "<matplotlib.image.AxesImage at 0x7f6300358f50>"
            ]
          },
          "metadata": {
            "tags": []
          },
          "execution_count": 26
        },
        {
          "output_type": "display_data",
          "data": {
            "image/png": "[encoded data removed]",
            "text/plain": [
              "<Figure size 432x288 with 1 Axes>"
            ]
          },
          "metadata": {
            "tags": [],
            "needs_background": "light"
          }
        }
      ]
    },
    {
      "cell_type": "code",
      "metadata": {
        "id": "vc1aUl5e-C5M",
        "colab": {
          "base_uri": "https://localhost:8080/"
        },
        "outputId": "38d3cc89-2b17-4519-ff0c-108183ec39a0"
      },
      "source": [
        "label       # Represents the label or the true value represented by the above image"
      ],
      "execution_count": null,
      "outputs": [
        {
          "output_type": "execute_result",
          "data": {
            "text/plain": [
              "5"
            ]
          },
          "metadata": {
            "tags": []
          },
          "execution_count": 27
        }
      ]
    },
    {
      "cell_type": "code",
      "metadata": {
        "id": "6KqNlo21-DjV"
      },
      "source": [
        "# The neural network we have built earlier is called a feedforward neural network\n",
        "# All the inputs pass through fully-connected layers (each neuron in one layer is connected to each neuron in the next) and send information only in one direction\n",
        "# Hence, we have the linear layers called fc1 and fc2 (fully connected layers)\n",
        "\n",
        "class FeedforwardNeuralNetwork(nn.Module):          # nn.Module is a base class for all neural networks to inherit from\n",
        "    def __init__(self, input_dim, hidden_dims, output_dim):\n",
        "        super(FeedforwardNeuralNetwork, self).__init__()\n",
        "\n",
        "        self.fc1 = nn.Linear(input_dim, hidden_dim)\n",
        "        self.fc2 = nn.Linear(hidden_dim, output_dim)\n",
        "\n",
        "    def forward(self, x):                           # The forward function passes variables through the model. When we call model(x), it actually runs model.forward(x)\n",
        "        x = F.relu(self.fc1(x))\n",
        "        x = F.softmax(self.fc2(x))                  # We use a softmax for classification for the last layer. We have 10 different labels in this case\n",
        "\n",
        "        return x"
      ],
      "execution_count": null,
      "outputs": []
    },
    {
      "cell_type": "code",
      "metadata": {
        "id": "YUqySm6pAObF"
      },
      "source": [
        "input_dim = 1 * 28 * 28         # The shape of the image. The image here is a 28 x 28 image with 1 color channel. We'll flatten the image to a single linear tensor\n",
        "hidden_dim = 32                # 1 hidden layers with 32 neurons\n",
        "output_dim = 10                 # Ten numbers from 0-9\n",
        "\n",
        "model = FeedforwardNeuralNetwork(input_dim, hidden_dim, output_dim)\n",
        "\n",
        "optimizer = optim.Adam(model.parameters(), lr=0.01)          # Find out about the Adam optimizer if you want. It works with the same principles as SGD but is more complex"
      ],
      "execution_count": null,
      "outputs": []
    },
    {
      "cell_type": "code",
      "metadata": {
        "id": "ksQ0UfvhBMZG",
        "colab": {
          "base_uri": "https://localhost:8080/"
        },
        "outputId": "707a5025-1292-4297-fc64-121184984c87"
      },
      "source": [
        "# Now let's train! This is going to take some time (around 5)\n",
        "\n",
        "num_epochs = 25\n",
        "loss_history = []\n",
        "accuracy_history = []\n",
        "\n",
        "for epoch in range(num_epochs):\n",
        "    epoch_loss = 0\n",
        "    epoch_accuracy = 0\n",
        "    for i, (images, labels) in enumerate(train_loader):     # Loads images batchwise. If you want, you can see the shapes of the images, labels variables\n",
        "        x = images.view(-1, input_dim)\n",
        "        y = labels.view(-1)\n",
        "\n",
        "        z = model(x)\n",
        "        loss = F.cross_entropy(z, y)\n",
        "        accuracy = calc_accuracy(z, y)\n",
        "\n",
        "        optimizer.zero_grad()           # If you don't reset this for every batch, it'll add to the gradients of the previous batch\n",
        "        loss.backward()\n",
        "        optimizer.step()\n",
        "\n",
        "        epoch_loss += loss.item() / 60000 * batch_size\n",
        "        epoch_accuracy += accuracy / 60000 * batch_size\n",
        "    \n",
        "    loss_history.append(epoch_loss)\n",
        "    accuracy_history.append(epoch_accuracy)\n",
        "\n",
        "    if epoch % 5 == 0:\n",
        "        print(\"Epoch: {}, Loss: {}, Accuracy: {}\".format(epoch, round(epoch_loss, 3), round(100*epoch_accuracy, 3)))"
      ],
      "execution_count": null,
      "outputs": [
        {
          "output_type": "stream",
          "text": [
            "/usr/local/lib/python3.7/dist-packages/ipykernel_launcher.py:14: UserWarning: Implicit dimension choice for softmax has been deprecated. Change the call to include dim=X as an argument.\n",
            "  \n"
          ],
          "name": "stderr"
        },
        {
          "output_type": "stream",
          "text": [
            "Epoch: 0, Loss: 1.685, Accuracy: 77.953\n",
            "Epoch: 5, Loss: 1.513, Accuracy: 94.923\n",
            "Epoch: 10, Loss: 1.509, Accuracy: 95.325\n",
            "Epoch: 15, Loss: 1.509, Accuracy: 95.307\n",
            "Epoch: 20, Loss: 1.507, Accuracy: 95.563\n"
          ],
          "name": "stdout"
        }
      ]
    },
    {
      "cell_type": "code",
      "metadata": {
        "id": "TocFSzFNCcyL",
        "colab": {
          "base_uri": "https://localhost:8080/"
        },
        "outputId": "4a67be0c-e072-4d0d-d425-2303a6cb240c"
      },
      "source": [
        "# Now let's test the same model on the test dataset. \n",
        "# Remember that at the end, we don't want our model to learn our training set perfectly but also to be able to generalise to unseen datasets.\n",
        "\n",
        "num_epochs = 5\n",
        "avg_loss = 0\n",
        "avg_accuracy = 0\n",
        "\n",
        "for epoch in range(num_epochs):\n",
        "    epoch_loss = 0\n",
        "    epoch_accuracy = 0\n",
        "    for images, labels in test_loader:\n",
        "        x = images.view(-1, input_dim)\n",
        "        y = labels.view(-1)\n",
        "\n",
        "        z = model(x)\n",
        "        loss = F.cross_entropy(z, y)\n",
        "        accuracy = calc_accuracy(z, y)\n",
        "\n",
        "        epoch_loss += loss.item() / 10000 * batch_size\n",
        "        epoch_accuracy += accuracy / 10000 * batch_size\n",
        "\n",
        "    avg_loss += epoch_loss / num_epochs\n",
        "    avg_accuracy += epoch_accuracy / num_epochs\n",
        "\n",
        "print(\"Number of Epochs tested: {}, Average loss: {}, Average Accuracy: {}\".format(num_epochs, round(avg_loss, 3), round(100*avg_accuracy, 3)))"
      ],
      "execution_count": null,
      "outputs": [
        {
          "output_type": "stream",
          "text": [
            "/usr/local/lib/python3.7/dist-packages/ipykernel_launcher.py:14: UserWarning: Implicit dimension choice for softmax has been deprecated. Change the call to include dim=X as an argument.\n",
            "  \n"
          ],
          "name": "stderr"
        },
        {
          "output_type": "stream",
          "text": [
            "Number of Epochs tested: 5, Average loss: 1.515, Average Accuracy: 95.78\n"
          ],
          "name": "stdout"
        }
      ]
    },
    {
      "cell_type": "code",
      "metadata": {
        "id": "TsC2ps_OG_fw",
        "colab": {
          "base_uri": "https://localhost:8080/",
          "height": 333
        },
        "outputId": "41ec2375-6d81-455a-82cf-67bac559a04f"
      },
      "source": [
        "# If you want to see what actually happened: \n",
        "\n",
        "image, label = test_dataset[500]\n",
        "\n",
        "plt.imshow(transforms.ToPILImage()(image))\n",
        "print(label)\n",
        "print(torch.argmax(model(image.view(-1, 28*28))).item())"
      ],
      "execution_count": null,
      "outputs": [
        {
          "output_type": "stream",
          "text": [
            "3\n",
            "3\n"
          ],
          "name": "stdout"
        },
        {
          "output_type": "stream",
          "text": [
            "/usr/local/lib/python3.7/dist-packages/ipykernel_launcher.py:14: UserWarning: Implicit dimension choice for softmax has been deprecated. Change the call to include dim=X as an argument.\n",
            "  \n"
          ],
          "name": "stderr"
        },
        {
          "output_type": "display_data",
          "data": {
            "image/png": "[encoded data removed]",
            "text/plain": [
              "<Figure size 432x288 with 1 Axes>"
            ]
          },
          "metadata": {
            "tags": [],
            "needs_background": "light"
          }
        }
      ]
    }
  ]
}